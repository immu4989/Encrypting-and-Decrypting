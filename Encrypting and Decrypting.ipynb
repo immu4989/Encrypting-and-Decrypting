{
 "cells": [
  {
   "cell_type": "markdown",
   "metadata": {},
   "source": [
    "<h1><center> Encrypt String and Decrypt Numbers program </center></h1>"
   ]
  },
  {
   "cell_type": "markdown",
   "metadata": {},
   "source": [
    "<p><center><i> ******To learn basic Python, please visit <a href=\"https://www.python.org/\"> Python Website </a>.</i></center></p>"
   ]
  },
  {
   "cell_type": "markdown",
   "metadata": {},
   "source": [
    "### Importing Modules"
   ]
  },
  {
   "cell_type": "code",
   "execution_count": 1,
   "metadata": {},
   "outputs": [],
   "source": [
    "import numpy as np\n",
    "import pandas as pd\n",
    "import string"
   ]
  },
  {
   "cell_type": "markdown",
   "metadata": {},
   "source": [
    "### Storing lower and upper case letters"
   ]
  },
  {
   "cell_type": "code",
   "execution_count": 2,
   "metadata": {},
   "outputs": [],
   "source": [
    "l = string.ascii_lowercase\n",
    "u = string.ascii_uppercase"
   ]
  },
  {
   "cell_type": "code",
   "execution_count": 3,
   "metadata": {},
   "outputs": [],
   "source": [
    "K=[' '] + list(l) + list(u) + ['.'] + [','] + ['!'] "
   ]
  },
  {
   "cell_type": "markdown",
   "metadata": {},
   "source": [
    "### Asking user to enter a string to be encrypted"
   ]
  },
  {
   "cell_type": "code",
   "execution_count": 4,
   "metadata": {},
   "outputs": [
    {
     "name": "stdout",
     "output_type": "stream",
     "text": [
      "\n",
      " Welcome to this mini program!\n",
      " Please enter a word or a sentence that you would like to encrypt : \n",
      " \n",
      " Imran Ahamed\n"
     ]
    }
   ],
   "source": [
    "a = input(\"\\n Welcome to this mini program!\\n \\\n",
    "Please enter a word or a sentence that you would like to encrypt : \\n \\n \\\n",
    "\")"
   ]
  },
  {
   "cell_type": "markdown",
   "metadata": {},
   "source": [
    "### Running Encrypt function"
   ]
  },
  {
   "cell_type": "code",
   "execution_count": 5,
   "metadata": {},
   "outputs": [],
   "source": [
    "def encrypt(uservalue): \n",
    "    x = list(a)\n",
    "    code = []\n",
    "    for i in range(len(x)):\n",
    "        for j in range(len(K)):\n",
    "            if x[i]==K[j]:\n",
    "                code.append(j)\n",
    "    return(code)"
   ]
  },
  {
   "cell_type": "code",
   "execution_count": 6,
   "metadata": {},
   "outputs": [
    {
     "name": "stdout",
     "output_type": "stream",
     "text": [
      "Encrypting :  [35, 13, 18, 1, 14, 0, 27, 8, 1, 13, 5, 4]\n"
     ]
    }
   ],
   "source": [
    "print(\"Encrypting : \", encrypt(a))"
   ]
  },
  {
   "cell_type": "markdown",
   "metadata": {},
   "source": [
    "### Creating Decrypt function to decrypt"
   ]
  },
  {
   "cell_type": "code",
   "execution_count": 7,
   "metadata": {},
   "outputs": [],
   "source": [
    "def decrypt(string1):\n",
    "    decode=[]\n",
    "    for i in range(len(string1)):\n",
    "        decode.append(K[string1[i]])\n",
    "    s=''.join(decode)\n",
    "    return(s)\n"
   ]
  },
  {
   "cell_type": "code",
   "execution_count": 8,
   "metadata": {},
   "outputs": [
    {
     "name": "stdout",
     "output_type": "stream",
     "text": [
      "Enter your encoded list of numbers:\n",
      "\n",
      " 35, 13, 18, 1, 14, 0, 27, 8, 1, 13, 5, 4\n"
     ]
    }
   ],
   "source": [
    "Value = input('Enter your encoded list of numbers:\\n\\n ')\n",
    "Value = [int(x) for x in Value.split(',')]"
   ]
  },
  {
   "cell_type": "code",
   "execution_count": 9,
   "metadata": {},
   "outputs": [
    {
     "name": "stdout",
     "output_type": "stream",
     "text": [
      "Decrypting :  Imran Ahamed\n"
     ]
    }
   ],
   "source": [
    "print(\"Decrypting : \", decrypt(Value))"
   ]
  },
  {
   "cell_type": "markdown",
   "metadata": {},
   "source": [
    "### <center> End of Program </center>"
   ]
  },
  {
   "cell_type": "code",
   "execution_count": null,
   "metadata": {},
   "outputs": [],
   "source": []
  }
 ],
 "metadata": {
  "kernelspec": {
   "display_name": "Python 3",
   "language": "python",
   "name": "python3"
  },
  "language_info": {
   "codemirror_mode": {
    "name": "ipython",
    "version": 3
   },
   "file_extension": ".py",
   "mimetype": "text/x-python",
   "name": "python",
   "nbconvert_exporter": "python",
   "pygments_lexer": "ipython3",
   "version": "3.7.0"
  }
 },
 "nbformat": 4,
 "nbformat_minor": 2
}
